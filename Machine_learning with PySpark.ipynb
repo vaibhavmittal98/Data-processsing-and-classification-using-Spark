{
 "cells": [
  {
   "cell_type": "markdown",
   "id": "4d42bf1f",
   "metadata": {},
   "source": [
    "!pip install pandas\n",
    "!pip install pyspark\n",
    "!pip install imblearn\n",
    "!pip install pyarrow\n",
    "!pip install matplotlib\n",
    "!pip intsall numpy"
   ]
  },
  {
   "cell_type": "code",
   "execution_count": 254,
   "id": "d7b9cf8b",
   "metadata": {},
   "outputs": [],
   "source": [
    "import pandas as pd\n",
    "import matplotlib.pyplot as plt\n",
    "from pyspark.sql import SparkSession\n",
    "from pyspark.ml.feature import StringIndexer\n",
    "from pyspark.sql.functions import col, asc,desc\n",
    "from pyspark.sql.functions import regexp_replace\n",
    "from pyspark.ml.feature import VectorAssembler\n",
    "from pyspark.ml.classification import LogisticRegression\n",
    "from pyspark.ml.evaluation import BinaryClassificationEvaluator\n",
    "from imblearn.over_sampling import SMOTE\n",
    "from pyspark.sql.types import StringType, DoubleType\n",
    "from pyspark.ml.classification import RandomForestClassifier\n",
    "\n",
    "spark=SparkSession.builder.appName('Data Processing and Classification using Spark and SMOTE').getOrCreate()\n",
    "spark.conf.set(\"spark.sql.execution.arrow.enabled\", \"true\")"
   ]
  },
  {
   "cell_type": "code",
   "execution_count": 255,
   "id": "af0fc07f",
   "metadata": {},
   "outputs": [],
   "source": [
    "df_pyspark=spark.read.csv('bank-additional-full.csv',header=True,inferSchema=True)"
   ]
  },
  {
   "cell_type": "code",
   "execution_count": 256,
   "id": "1d6f31d6",
   "metadata": {},
   "outputs": [
    {
     "name": "stdout",
     "output_type": "stream",
     "text": [
      "root\n",
      " |-- age: integer (nullable = true)\n",
      " |-- job: string (nullable = true)\n",
      " |-- marital: string (nullable = true)\n",
      " |-- education: string (nullable = true)\n",
      " |-- default: string (nullable = true)\n",
      " |-- housing: string (nullable = true)\n",
      " |-- loan: string (nullable = true)\n",
      " |-- contact: string (nullable = true)\n",
      " |-- month: string (nullable = true)\n",
      " |-- day_of_week: string (nullable = true)\n",
      " |-- duration: integer (nullable = true)\n",
      " |-- campaign: integer (nullable = true)\n",
      " |-- pdays: integer (nullable = true)\n",
      " |-- previous: integer (nullable = true)\n",
      " |-- poutcome: string (nullable = true)\n",
      " |-- emp.var.rate: double (nullable = true)\n",
      " |-- cons.price.idx: double (nullable = true)\n",
      " |-- cons.conf.idx: double (nullable = true)\n",
      " |-- euribor3m: double (nullable = true)\n",
      " |-- nr.employed: double (nullable = true)\n",
      " |-- y: string (nullable = true)\n",
      "\n"
     ]
    }
   ],
   "source": [
    "#Original schema of Data\n",
    "df_pyspark.printSchema()"
   ]
  },
  {
   "cell_type": "code",
   "execution_count": 258,
   "id": "07a21276",
   "metadata": {},
   "outputs": [
    {
     "name": "stdout",
     "output_type": "stream",
     "text": [
      "41188 41188\n",
      "No null values present\n"
     ]
    }
   ],
   "source": [
    "#renaming columns having '.' with '_' to avoid clash in spark\n",
    "def rename_cols(df):\n",
    "    for column in df.columns:\n",
    "        new_column = column.replace('.','_')\n",
    "        df = df.withColumnRenamed(column, new_column)\n",
    "    return df\n",
    "\n",
    "df_pyspark = rename_cols(df_pyspark)\n",
    "\n",
    "columns = ['job','marital','education','default','housing','loan','contact','month','day_of_week','poutcome','y']\n",
    "print(df_pyspark.count(),df_pyspark.na.drop(how=\"any\").count())\n",
    "print('No null values present')"
   ]
  },
  {
   "cell_type": "code",
   "execution_count": 259,
   "id": "94231bda",
   "metadata": {},
   "outputs": [
    {
     "name": "stdout",
     "output_type": "stream",
     "text": [
      "-RECORD 0-----------------------------\n",
      " summary        | count               \n",
      " age            | 41188               \n",
      " campaign       | 41188               \n",
      " pdays          | 41188               \n",
      " previous       | 41188               \n",
      " emp_var_rate   | 41188               \n",
      " cons_price_idx | 41188               \n",
      " cons_conf_idx  | 41188               \n",
      " euribor3m      | 41188               \n",
      " nr_employed    | 41188               \n",
      "-RECORD 1-----------------------------\n",
      " summary        | mean                \n",
      " age            | 40.02406040594348   \n",
      " campaign       | 2.567592502670681   \n",
      " pdays          | 962.4754540157328   \n",
      " previous       | 0.17296299893172767 \n",
      " emp_var_rate   | 0.08188550063178392 \n",
      " cons_price_idx | 93.57566436828918   \n",
      " cons_conf_idx  | -40.50260027191787  \n",
      " euribor3m      | 3.6212908128585366  \n",
      " nr_employed    | 5167.035910944004   \n",
      "-RECORD 2-----------------------------\n",
      " summary        | stddev              \n",
      " age            | 10.421249980934057  \n",
      " campaign       | 2.770013542902331   \n",
      " pdays          | 186.9109073447414   \n",
      " previous       | 0.49490107983928927 \n",
      " emp_var_rate   | 1.57095974051703    \n",
      " cons_price_idx | 0.5788400489541355  \n",
      " cons_conf_idx  | 4.628197856174595   \n",
      " euribor3m      | 1.7344474048512557  \n",
      " nr_employed    | 72.25152766825924   \n",
      "-RECORD 3-----------------------------\n",
      " summary        | min                 \n",
      " age            | 17                  \n",
      " campaign       | 1                   \n",
      " pdays          | 0                   \n",
      " previous       | 0                   \n",
      " emp_var_rate   | -3.4                \n",
      " cons_price_idx | 92.201              \n",
      " cons_conf_idx  | -50.8               \n",
      " euribor3m      | 0.634               \n",
      " nr_employed    | 4963.6              \n",
      "-RECORD 4-----------------------------\n",
      " summary        | max                 \n",
      " age            | 98                  \n",
      " campaign       | 56                  \n",
      " pdays          | 999                 \n",
      " previous       | 7                   \n",
      " emp_var_rate   | 1.4                 \n",
      " cons_price_idx | 94.767              \n",
      " cons_conf_idx  | -26.9               \n",
      " euribor3m      | 5.045               \n",
      " nr_employed    | 5228.1              \n",
      "\n"
     ]
    }
   ],
   "source": [
    "# Checking numeric data's description for better understanding\n",
    "#dbl_cols = [f.name for f in df_pyspark.schema.fields if isinstance(f.dataType, DoubleType)]\n",
    "df_pyspark.select('age','campaign','pdays','previous','emp_var_rate','cons_price_idx',\n",
    "                  'cons_conf_idx','euribor3m','nr_employed').describe().show(n=5, truncate=False, vertical=True)"
   ]
  },
  {
   "cell_type": "code",
   "execution_count": 260,
   "id": "5bdcc756",
   "metadata": {},
   "outputs": [],
   "source": [
    "#Data Transformation begins\n",
    "df_pyspark = df_pyspark.filter(df_pyspark['duration']>0)\n",
    "df_pyspark.count() # duration = 0 means y = 0 regardless of other attributes hence dropping these tuple\n",
    "#to avoid false information\n",
    "\n",
    "df_pyspark = df_pyspark.drop('duration') #if the call happens we already know the answer of the customer, \n",
    "#hence to make it a realisitic predictive model we are dropping this column.\n"
   ]
  },
  {
   "cell_type": "code",
   "execution_count": 261,
   "id": "dde47083",
   "metadata": {},
   "outputs": [
    {
     "name": "stdout",
     "output_type": "stream",
     "text": [
      "No of unknowns:\n",
      "job 330\n",
      "marital 80\n",
      "education 1731\n",
      "default 8597\n",
      "housing 990\n",
      "loan 990\n",
      "contact 0\n",
      "month 0\n",
      "day_of_week 0\n",
      "poutcome 0\n",
      "y 0\n"
     ]
    }
   ],
   "source": [
    "def number_unknowns(df):\n",
    "    print(\"No of unknowns:\")\n",
    "    for column in columns:\n",
    "        print(column,df.filter(df[column]=='unknown').count())\n",
    "    return\n",
    "\n",
    "number_unknowns(df_pyspark)# As no. of unknown's percentage is low, there is no need to drop the columns and unknown will\n",
    "# treated as a separate category"
   ]
  },
  {
   "cell_type": "code",
   "execution_count": 262,
   "id": "f26291d1",
   "metadata": {},
   "outputs": [
    {
     "name": "stdout",
     "output_type": "stream",
     "text": [
      "+-------------------+-----+\n",
      "|          education|count|\n",
      "+-------------------+-----+\n",
      "|            unknown|  131|\n",
      "|           basic.4y|   52|\n",
      "|  university.degree|   45|\n",
      "|        high.school|   37|\n",
      "|           basic.9y|   31|\n",
      "|           basic.6y|   22|\n",
      "|professional.course|   12|\n",
      "+-------------------+-----+\n",
      "\n",
      "+-------------+-----+\n",
      "|          job|count|\n",
      "+-------------+-----+\n",
      "|  blue-collar|  454|\n",
      "|       admin.|  249|\n",
      "|   technician|  212|\n",
      "|      student|  167|\n",
      "|     services|  150|\n",
      "|      unknown|  131|\n",
      "|   management|  123|\n",
      "|      retired|   98|\n",
      "| entrepreneur|   57|\n",
      "|    housemaid|   42|\n",
      "|self-employed|   29|\n",
      "|   unemployed|   19|\n",
      "+-------------+-----+\n",
      "\n",
      "+-------------------+-----+\n",
      "|          education|count|\n",
      "+-------------------+-----+\n",
      "|           basic.9y| 3622|\n",
      "|           basic.4y| 2318|\n",
      "|           basic.6y| 1426|\n",
      "|        high.school|  877|\n",
      "|            unknown|  454|\n",
      "|professional.course|  453|\n",
      "|  university.degree|   94|\n",
      "|         illiterate|    8|\n",
      "+-------------------+-----+\n",
      "\n"
     ]
    }
   ],
   "source": [
    "temp = df_pyspark.filter(df_pyspark['job'] == 'unknown')\n",
    "temp = temp.groupBy('education').count()\n",
    "temp.sort(col('count').desc()).show() \n",
    "\n",
    "temp = df_pyspark.filter(df_pyspark['education'] == 'unknown')\n",
    "temp = temp.groupBy('job').count()\n",
    "temp.sort(col('count').desc()).show() #when job is unknown most likely the job is blue-collar hence the \n",
    "#unknowns in job are imputed\n",
    "\n",
    "temp = df_pyspark.filter(df_pyspark['job'] == 'blue-collar')\n",
    "temp = temp.groupBy('education').count()\n",
    "temp.sort(col('count').desc()).show() #when education is unknown most likely the education is basic.9y hence the unknowns \n",
    "#in education are imputed with basic.9y"
   ]
  },
  {
   "cell_type": "code",
   "execution_count": 264,
   "id": "9a64e6c9",
   "metadata": {},
   "outputs": [
    {
     "name": "stdout",
     "output_type": "stream",
     "text": [
      "+-------------+-----+\n",
      "|          job|count|\n",
      "+-------------+-----+\n",
      "|   management| 2923|\n",
      "|      retired| 1720|\n",
      "|self-employed| 1421|\n",
      "|      student|  875|\n",
      "|  blue-collar| 9582|\n",
      "| entrepreneur| 1456|\n",
      "|       admin.|10421|\n",
      "|   technician| 6743|\n",
      "|     services| 3969|\n",
      "|    housemaid| 1060|\n",
      "|   unemployed| 1014|\n",
      "+-------------+-----+\n",
      "\n",
      "+-------------------+-----+\n",
      "|          education|count|\n",
      "+-------------------+-----+\n",
      "|        high.school| 9513|\n",
      "|           basic.6y| 2292|\n",
      "|professional.course| 5243|\n",
      "|  university.degree|12167|\n",
      "|         illiterate|   18|\n",
      "|           basic.4y| 4176|\n",
      "|           basic.9y| 7775|\n",
      "+-------------------+-----+\n",
      "\n"
     ]
    }
   ],
   "source": [
    "#Unknowns imputed in job\n",
    "df_pyspark = df_pyspark.withColumn('job', regexp_replace('job', 'unknown', 'blue-collar'))\n",
    "df_pyspark.groupBy('job').count().show()\n",
    "\n",
    "#Unknowns imputed in education\n",
    "df_pyspark = df_pyspark.withColumn('education', regexp_replace('education', 'unknown', 'basic.9y'))\n",
    "df_pyspark.groupBy('education').count().show()\n",
    "\n",
    "#Unknowns removed"
   ]
  },
  {
   "cell_type": "code",
   "execution_count": 265,
   "id": "5a332426",
   "metadata": {},
   "outputs": [
    {
     "name": "stdout",
     "output_type": "stream",
     "text": [
      "root\n",
      " |-- age: integer (nullable = true)\n",
      " |-- job: string (nullable = true)\n",
      " |-- marital: string (nullable = true)\n",
      " |-- education: string (nullable = true)\n",
      " |-- default: string (nullable = true)\n",
      " |-- housing: string (nullable = true)\n",
      " |-- loan: string (nullable = true)\n",
      " |-- contact: string (nullable = true)\n",
      " |-- month: string (nullable = true)\n",
      " |-- day_of_week: string (nullable = true)\n",
      " |-- campaign: integer (nullable = true)\n",
      " |-- pdays: integer (nullable = true)\n",
      " |-- previous: integer (nullable = true)\n",
      " |-- poutcome: string (nullable = true)\n",
      " |-- emp_var_rate: double (nullable = true)\n",
      " |-- cons_price_idx: double (nullable = true)\n",
      " |-- cons_conf_idx: double (nullable = true)\n",
      " |-- euribor3m: double (nullable = true)\n",
      " |-- nr_employed: double (nullable = true)\n",
      " |-- y: string (nullable = true)\n",
      " |-- Jobf: double (nullable = false)\n",
      " |-- Maritalf: double (nullable = false)\n",
      " |-- Educationf: double (nullable = false)\n",
      " |-- Defaultf: double (nullable = false)\n",
      " |-- Housingf: double (nullable = false)\n",
      " |-- Loanf: double (nullable = false)\n",
      " |-- Contactf: double (nullable = false)\n",
      " |-- Monthf: double (nullable = false)\n",
      " |-- Day_of_weekf: double (nullable = false)\n",
      " |-- Poutcomef: double (nullable = false)\n",
      " |-- label: double (nullable = false)\n",
      "\n"
     ]
    }
   ],
   "source": [
    "#Converting categorcial string columns into numerical ones\n",
    "def convert_categorical(df,inputCol,new_column):\n",
    "    indexer = StringIndexer(inputCol=column, outputCol=new_column)\n",
    "    indexed = indexer.fit(df).transform(df)\n",
    "    return indexed\n",
    "\n",
    "\n",
    "columns_final = ['Jobf','Maritalf','Educationf','Defaultf','Housingf','Loanf','Contactf',\n",
    "                 'Monthf','Day_of_weekf','Poutcomef','label']\n",
    "\n",
    "i = 0\n",
    "for column in columns:\n",
    "    new_column = columns_final[i]\n",
    "    i+=1\n",
    "    df_pyspark = convert_categorical(df_pyspark,column,new_column)\n",
    "    \n",
    "df_pyspark.printSchema()"
   ]
  },
  {
   "cell_type": "code",
   "execution_count": 269,
   "id": "a5587a76",
   "metadata": {},
   "outputs": [
    {
     "name": "stdout",
     "output_type": "stream",
     "text": [
      "+--------------------+-----+\n",
      "|Independent Features|label|\n",
      "+--------------------+-----+\n",
      "|[56.0,8.0,0.0,1.0...|  0.0|\n",
      "|[57.0,3.0,0.0,1.0...|  0.0|\n",
      "|[37.0,3.0,0.0,1.0...|  0.0|\n",
      "|[40.0,0.0,0.0,1.0...|  0.0|\n",
      "|[56.0,3.0,0.0,1.0...|  0.0|\n",
      "|[45.0,3.0,0.0,1.0...|  0.0|\n",
      "|[59.0,0.0,0.0,1.0...|  0.0|\n",
      "|[41.0,1.0,0.0,1.0...|  0.0|\n",
      "|[24.0,2.0,1.0,1.0...|  0.0|\n",
      "|[25.0,3.0,1.0,1.0...|  0.0|\n",
      "|[41.0,1.0,0.0,1.0...|  0.0|\n",
      "|[25.0,3.0,1.0,1.0...|  0.0|\n",
      "|[29.0,1.0,1.0,1.0...|  0.0|\n",
      "|[57.0,8.0,2.0,1.0...|  0.0|\n",
      "|[35.0,1.0,0.0,1.0...|  0.0|\n",
      "|[54.0,5.0,0.0,1.0...|  0.0|\n",
      "|[35.0,1.0,0.0,1.0...|  0.0|\n",
      "|[46.0,1.0,0.0,1.0...|  0.0|\n",
      "|[50.0,1.0,0.0,1.0...|  0.0|\n",
      "|[39.0,4.0,1.0,1.0...|  0.0|\n",
      "+--------------------+-----+\n",
      "only showing top 20 rows\n",
      "\n"
     ]
    }
   ],
   "source": [
    "#Converting our features into one vector for model training\n",
    "featureassembler=VectorAssembler(inputCols=['age','Jobf','Maritalf','campaign','pdays','previous','emp_var_rate',\n",
    " 'cons_price_idx','cons_conf_idx','euribor3m',\n",
    " 'nr_employed','Educationf','Defaultf','Housingf','Loanf','Contactf','Monthf','Day_of_weekf','Poutcomef'],\n",
    "                                 outputCol=\"Independent Features\")\n",
    "output=featureassembler.transform(df_pyspark)\n",
    "finalized_data=output.select(\"Independent Features\",\"label\")\n",
    "finalized_data.show()"
   ]
  },
  {
   "cell_type": "code",
   "execution_count": 285,
   "id": "b0634810",
   "metadata": {},
   "outputs": [
    {
     "name": "stdout",
     "output_type": "stream",
     "text": [
      "The no. of negative and positive samples are  4640 36544\n",
      "This shows that the data is clearly unbalanced\n"
     ]
    }
   ],
   "source": [
    "a = finalized_data.filter(df_pyspark['label']==1).count()\n",
    "b = finalized_data.filter(df_pyspark['label']==0).count()\n",
    "\n",
    "print('The no. of negative and positive samples are ',a,b)\n",
    "print('This shows that the data is clearly unbalanced')"
   ]
  },
  {
   "cell_type": "code",
   "execution_count": 286,
   "id": "85437ecf",
   "metadata": {},
   "outputs": [],
   "source": [
    "#Training the model\n",
    "train_data,test_data=finalized_data.randomSplit([0.75,0.25])\n",
    "regressor=LogisticRegression(featuresCol='Independent Features', labelCol='label')\n",
    "regressor=regressor.fit(train_data)"
   ]
  },
  {
   "cell_type": "code",
   "execution_count": 287,
   "id": "1246ec32",
   "metadata": {},
   "outputs": [
    {
     "name": "stderr",
     "output_type": "stream",
     "text": [
      "c:\\users\\vaibh\\pycharmprojects\\spark\\venv\\lib\\site-packages\\pyspark\\sql\\context.py:125: FutureWarning: Deprecated in 3.0.0. Use SparkSession.builder.getOrCreate() instead.\n",
      "  warnings.warn(\n"
     ]
    },
    {
     "data": {
      "image/png": "[encoded data removed]",
      "text/plain": [
       "<Figure size 432x288 with 1 Axes>"
      ]
     },
     "metadata": {
      "needs_background": "light"
     },
     "output_type": "display_data"
    },
    {
     "name": "stdout",
     "output_type": "stream",
     "text": [
      "Training set areaUnderROC: 0.7840975423370281\n"
     ]
    }
   ],
   "source": [
    "trainingSummary = regressor.summary\n",
    "roc = trainingSummary.roc.toPandas()\n",
    "plt.plot(roc['FPR'],roc['TPR'])\n",
    "plt.ylabel('False Positive Rate')\n",
    "plt.xlabel('True Positive Rate')\n",
    "plt.title('ROC Curve')\n",
    "plt.show()\n",
    "print('Training set areaUnderROC: ' + str(trainingSummary.areaUnderROC))"
   ]
  },
  {
   "cell_type": "code",
   "execution_count": 288,
   "id": "1ad7bdfb",
   "metadata": {},
   "outputs": [
    {
     "name": "stderr",
     "output_type": "stream",
     "text": [
      "c:\\users\\vaibh\\pycharmprojects\\spark\\venv\\lib\\site-packages\\pyspark\\sql\\context.py:125: FutureWarning: Deprecated in 3.0.0. Use SparkSession.builder.getOrCreate() instead.\n",
      "  warnings.warn(\n"
     ]
    },
    {
     "data": {
      "image/png": "[encoded data removed]",
      "text/plain": [
       "<Figure size 432x288 with 1 Axes>"
      ]
     },
     "metadata": {
      "needs_background": "light"
     },
     "output_type": "display_data"
    }
   ],
   "source": [
    "pr = trainingSummary.pr.toPandas()\n",
    "plt.plot(pr['recall'],pr['precision'])\n",
    "plt.ylabel('Precision')\n",
    "plt.xlabel('Recall')\n",
    "plt.show()"
   ]
  },
  {
   "cell_type": "code",
   "execution_count": 289,
   "id": "b6452efd",
   "metadata": {},
   "outputs": [],
   "source": [
    "lr_model = regressor.transform(test_data)"
   ]
  },
  {
   "cell_type": "code",
   "execution_count": 290,
   "id": "69e45167",
   "metadata": {},
   "outputs": [
    {
     "name": "stdout",
     "output_type": "stream",
     "text": [
      "True positive prediction for Logistic Regression without over-sampling is  36.79577464788733\n"
     ]
    }
   ],
   "source": [
    "temp1 = lr_model.filter(lr_model['label']==1.0).count()\n",
    "temp1\n",
    "temp2 = lr_model.filter(lr_model['prediction']==1.0).count()\n",
    "temp2\n",
    "\n",
    "print('True positive prediction for Logistic Regression without over-sampling is ',temp2/temp1*100)"
   ]
  },
  {
   "cell_type": "code",
   "execution_count": 291,
   "id": "765fdcca",
   "metadata": {},
   "outputs": [
    {
     "name": "stdout",
     "output_type": "stream",
     "text": [
      "Test Area under ROC for Logistic Regression without over-sampling is  79.48890650216399\n"
     ]
    }
   ],
   "source": [
    "evaluator = BinaryClassificationEvaluator()\n",
    "print('Test Area under ROC for Logistic Regression without over-sampling is ', evaluator.evaluate(lr_model)*100)"
   ]
  },
  {
   "cell_type": "code",
   "execution_count": 292,
   "id": "0cb32b7a",
   "metadata": {},
   "outputs": [
    {
     "name": "stdout",
     "output_type": "stream",
     "text": [
      " Model Accuracy :  0.9030139103554868\n",
      " This value is misleading because majority of the samples have 0 as their label\n"
     ]
    }
   ],
   "source": [
    "accuracy = lr_model.filter(lr_model.label == lr_model.prediction).count() / float(lr_model.count())\n",
    "print(\" Model Accuracy : \",accuracy)\n",
    "print(\" This value is misleading because majority of the samples have 0 as their label\")"
   ]
  },
  {
   "cell_type": "code",
   "execution_count": 293,
   "id": "556dcb94",
   "metadata": {},
   "outputs": [],
   "source": [
    "#Applying SMOTE(Oversampling to balance the minority classes)\n",
    "features = df_pyspark.select(['age','Jobf','Maritalf','campaign','pdays','previous','emp_var_rate',\n",
    " 'cons_price_idx','cons_conf_idx','euribor3m',\n",
    " 'nr_employed','Educationf','Defaultf','Housingf','Loanf','Contactf','Monthf','Day_of_weekf','Poutcomef']).toPandas()\n",
    "labels = df_pyspark.select('label').toPandas()"
   ]
  },
  {
   "cell_type": "code",
   "execution_count": 294,
   "id": "50177bd3",
   "metadata": {},
   "outputs": [],
   "source": [
    "\\"
   ]
  },
  {
   "cell_type": "code",
   "execution_count": 295,
   "id": "0377942e",
   "metadata": {},
   "outputs": [],
   "source": [
    "labels\n",
    "features['label'] = labels.values\n",
    "features = spark.createDataFrame(features) "
   ]
  },
  {
   "cell_type": "code",
   "execution_count": 304,
   "id": "224ff9d1",
   "metadata": {},
   "outputs": [],
   "source": [
    "featureassembler=VectorAssembler(inputCols=['age','Jobf','Maritalf','campaign','pdays','previous','emp_var_rate',\n",
    " 'cons_price_idx','cons_conf_idx','euribor3m',\n",
    " 'nr_employed','Educationf','Defaultf','Housingf','Loanf','Contactf','Monthf','Day_of_weekf','Poutcomef'],outputCol=\"Independent Features\")\n",
    "output=featureassembler.transform(features)\n",
    "finalized_data_smote=output.select(\"Independent Features\",\"label\")\n",
    "\n",
    "train_data_smote,test_data_smote=finalized_data_smote.randomSplit([0.75,0.25])\n",
    "regressor_smote=LogisticRegression(featuresCol='Independent Features', labelCol='label')\n",
    "regressor_smote=regressor_smote.fit(train_data_smote)"
   ]
  },
  {
   "cell_type": "code",
   "execution_count": 305,
   "id": "874edd6c",
   "metadata": {},
   "outputs": [
    {
     "name": "stderr",
     "output_type": "stream",
     "text": [
      "c:\\users\\vaibh\\pycharmprojects\\spark\\venv\\lib\\site-packages\\pyspark\\sql\\context.py:125: FutureWarning: Deprecated in 3.0.0. Use SparkSession.builder.getOrCreate() instead.\n",
      "  warnings.warn(\n"
     ]
    },
    {
     "data": {
      "image/png": "[encoded data removed]",
      "text/plain": [
       "<Figure size 432x288 with 1 Axes>"
      ]
     },
     "metadata": {
      "needs_background": "light"
     },
     "output_type": "display_data"
    },
    {
     "name": "stdout",
     "output_type": "stream",
     "text": [
      "Training set areaUnderROC for Logistic Regression with SMOTE = 0.8096898501159091\n"
     ]
    }
   ],
   "source": [
    "trainingSummary = regressor_smote.summary\n",
    "roc = trainingSummary.roc.toPandas()\n",
    "plt.plot(roc['FPR'],roc['TPR'])\n",
    "plt.ylabel('False Positive Rate')\n",
    "plt.xlabel('True Positive Rate')\n",
    "plt.title('ROC Curve')\n",
    "plt.show()\n",
    "print('Training set areaUnderROC for Logistic Regression with SMOTE = ' + str(trainingSummary.areaUnderROC))"
   ]
  },
  {
   "cell_type": "code",
   "execution_count": 306,
   "id": "640c0c90",
   "metadata": {
    "scrolled": true
   },
   "outputs": [
    {
     "name": "stderr",
     "output_type": "stream",
     "text": [
      "c:\\users\\vaibh\\pycharmprojects\\spark\\venv\\lib\\site-packages\\pyspark\\sql\\context.py:125: FutureWarning: Deprecated in 3.0.0. Use SparkSession.builder.getOrCreate() instead.\n",
      "  warnings.warn(\n"
     ]
    },
    {
     "data": {
      "image/png": "[encoded data removed]",
      "text/plain": [
       "<Figure size 432x288 with 1 Axes>"
      ]
     },
     "metadata": {
      "needs_background": "light"
     },
     "output_type": "display_data"
    }
   ],
   "source": [
    "pr = trainingSummary.pr.toPandas()\n",
    "plt.plot(pr['recall'],pr['precision'])\n",
    "plt.ylabel('Precision')\n",
    "plt.xlabel('Recall')\n",
    "plt.show()"
   ]
  },
  {
   "cell_type": "code",
   "execution_count": 302,
   "id": "c7d35ef6",
   "metadata": {},
   "outputs": [
    {
     "name": "stdout",
     "output_type": "stream",
     "text": [
      "Test Area under ROC 0.8092361232353109\n"
     ]
    }
   ],
   "source": [
    "lr_model_smote = regressor_smote.transform(test_data_smote)\n",
    "evaluator = BinaryClassificationEvaluator()\n",
    "print('Test Area under ROC', evaluator.evaluate(lr_model_smote))"
   ]
  },
  {
   "cell_type": "code",
   "execution_count": 303,
   "id": "dfa0a7c9",
   "metadata": {},
   "outputs": [
    {
     "name": "stdout",
     "output_type": "stream",
     "text": [
      "Accuracy :  0.7537761897027774\n"
     ]
    }
   ],
   "source": [
    "accuracy = lr_model_smote.filter(lr_model_smote.label == lr_model_smote.prediction).count() / float(lr_model_smote.count())\n",
    "print(\"Accuracy : \",accuracy)"
   ]
  },
  {
   "cell_type": "code",
   "execution_count": 308,
   "id": "a85ca58e",
   "metadata": {},
   "outputs": [
    {
     "name": "stdout",
     "output_type": "stream",
     "text": [
      "True positive prediction for Logistic Regression with over-sampling is  81.92150975766673\n",
      "which is around 2.25X better than the model without oversampling\n"
     ]
    }
   ],
   "source": [
    "temp1 = lr_model_smote.filter(lr_model_smote['label']==1.0).count()\n",
    "temp1\n",
    "temp2 = lr_model_smote.filter(lr_model_smote['prediction']==1.0).count()\n",
    "temp2\n",
    "\n",
    "print('True positive prediction for Logistic Regression with over-sampling is ',temp2/temp1*100)\n",
    "print('which is around 2.25X better than the model without oversampling')"
   ]
  },
  {
   "cell_type": "code",
   "execution_count": 309,
   "id": "87fbcb6b",
   "metadata": {},
   "outputs": [],
   "source": [
    "#Using RandomForest for Classification for Alternate\n",
    "rf = RandomForestClassifier(featuresCol = 'Independent Features', labelCol = 'label')\n",
    "rfModel = rf.fit(train_data)\n",
    "predictions = rfModel.transform(test_data)"
   ]
  },
  {
   "cell_type": "code",
   "execution_count": 313,
   "id": "cdd3609d",
   "metadata": {},
   "outputs": [
    {
     "name": "stdout",
     "output_type": "stream",
     "text": [
      "Test Area Under ROC with RandomForest without oversampling 79.56201974215082\n",
      "Accuracy :  90.1275115919629\n"
     ]
    }
   ],
   "source": [
    "#ROC is a probability curve and AUC represents degree or measure of separability. \n",
    "#ROC tells how much model is capable of distinguishing between classes.\n",
    "evaluator = BinaryClassificationEvaluator()\n",
    "print(\"Test Area Under ROC with RandomForest without oversampling \" + \n",
    "      str(evaluator.evaluate(predictions, {evaluator.metricName: \"areaUnderROC\"})*100))\n",
    "accuracy = predictions.filter(predictions.label == predictions.prediction).count() / float(predictions.count())\n",
    "print(\"Accuracy : \",accuracy*100)\n"
   ]
  },
  {
   "cell_type": "code",
   "execution_count": 314,
   "id": "cd19ec8f",
   "metadata": {},
   "outputs": [
    {
     "name": "stdout",
     "output_type": "stream",
     "text": [
      "True positive percentage with RandomForest without over sampling  26.408450704225352\n"
     ]
    }
   ],
   "source": [
    "temp1 = predictions.filter(predictions['label']==1.0).count()\n",
    "temp2 = predictions.filter(predictions['prediction']==1.0).count()\n",
    "\n",
    "print('True positive percentage with RandomForest without over sampling ',temp2/temp1*100)"
   ]
  },
  {
   "cell_type": "code",
   "execution_count": 315,
   "id": "2a3be67f",
   "metadata": {},
   "outputs": [],
   "source": [
    "#Testing with Oversampled data\n",
    "rf = RandomForestClassifier(featuresCol = 'Independent Features', labelCol = 'label')\n",
    "rfModel = rf.fit(train_data_smote)\n",
    "predictions = rfModel.transform(test_data_smote)"
   ]
  },
  {
   "cell_type": "code",
   "execution_count": 317,
   "id": "4f0d4e54",
   "metadata": {},
   "outputs": [
    {
     "name": "stdout",
     "output_type": "stream",
     "text": [
      "Test Area Under ROC with RandomForest with oversampling 0.8976673888029654\n",
      "Accuracy :  81.81818181818183\n"
     ]
    }
   ],
   "source": [
    "evaluator = BinaryClassificationEvaluator()\n",
    "print(\"Test Area Under ROC with RandomForest with oversampling \" + str(evaluator.evaluate(predictions,\n",
    "                                                                {evaluator.metricName: \"areaUnderROC\"})))\n",
    "accuracy = predictions.filter(predictions.label == predictions.prediction).count() / float(predictions.count())\n",
    "print(\"Accuracy : \",accuracy*100)"
   ]
  },
  {
   "cell_type": "code",
   "execution_count": 318,
   "id": "ec04a0c6",
   "metadata": {},
   "outputs": [
    {
     "name": "stdout",
     "output_type": "stream",
     "text": [
      "True positive percentage for RandomForest with oversampling is  89.11342894393742\n"
     ]
    }
   ],
   "source": [
    "temp1 = predictions.filter(predictions['label']==1.0).count()\n",
    "temp2 = predictions.filter(predictions['prediction']==1.0).count()\n",
    "\n",
    "print('True positive percentage for RandomForest with oversampling is ',temp2/temp1*100)"
   ]
  }
 ],
 "metadata": {
  "kernelspec": {
   "display_name": "Python 3 (ipykernel)",
   "language": "python",
   "name": "python3"
  },
  "language_info": {
   "codemirror_mode": {
    "name": "ipython",
    "version": 3
   },
   "file_extension": ".py",
   "mimetype": "text/x-python",
   "name": "python",
   "nbconvert_exporter": "python",
   "pygments_lexer": "ipython3",
   "version": "3.9.5"
  }
 },
 "nbformat": 4,
 "nbformat_minor": 5
}
